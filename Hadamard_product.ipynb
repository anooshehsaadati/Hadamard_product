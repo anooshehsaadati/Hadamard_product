{
 "cells": [
  {
   "cell_type": "code",
   "execution_count": 85,
   "metadata": {},
   "outputs": [],
   "source": [
    "import numpy as np\n",
    "import cv2\n",
    "import copy"
   ]
  },
  {
   "cell_type": "code",
   "execution_count": 86,
   "metadata": {},
   "outputs": [],
   "source": [
    "frame = cv2.imread(\"Scale_IMG_1170.JPG\")\n",
    "mask = cv2.imread(\"Mask_IMG_1170.JPG\")\n",
    "\n",
    "mask1 = copy.deepcopy(mask)\n",
    "\n",
    "mask1[mask1 < 255] = 0\n",
    "mask1[mask1 >= 255] = 1\n",
    "\n",
    "color_mask = np.multiply(frame, mask1)\n",
    "\n",
    "cv2.imshow(\"Frame\", frame)\n",
    "cv2.imshow(\"Mask\", mask)\n",
    "cv2.imshow(\"Color Mask\", color_mask)\n",
    "cv2.waitKey(0)\n",
    "\n",
    "cv2.destroyAllWindows()"
   ]
  }
 ],
 "metadata": {
  "kernelspec": {
   "display_name": "Python 3",
   "language": "python",
   "name": "python3"
  },
  "language_info": {
   "codemirror_mode": {
    "name": "ipython",
    "version": 3
   },
   "file_extension": ".py",
   "mimetype": "text/x-python",
   "name": "python",
   "nbconvert_exporter": "python",
   "pygments_lexer": "ipython3",
   "version": "3.10.11"
  },
  "orig_nbformat": 4
 },
 "nbformat": 4,
 "nbformat_minor": 2
}
